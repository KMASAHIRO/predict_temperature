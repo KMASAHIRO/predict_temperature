{
  "nbformat": 4,
  "nbformat_minor": 0,
  "metadata": {
    "colab": {
      "name": "cnn_weather.ipynb",
      "provenance": [],
      "collapsed_sections": []
    },
    "kernelspec": {
      "name": "python3",
      "display_name": "Python 3"
    }
  },
  "cells": [
    {
      "cell_type": "markdown",
      "metadata": {
        "id": "0OEVdh6UZv7f"
      },
      "source": [
        "#Makes three TFlite models"
      ]
    },
    {
      "cell_type": "markdown",
      "metadata": {
        "id": "b4meEe7ALCC9"
      },
      "source": [
        "##Environments"
      ]
    },
    {
      "cell_type": "markdown",
      "metadata": {
        "id": "y2dNlVZyLjaQ"
      },
      "source": [
        "- Google Colab\n",
        "- Tensorflow 2.3.1\n",
        "- Edge TPU Compiler 15.0.340273435"
      ]
    },
    {
      "cell_type": "markdown",
      "metadata": {
        "id": "a-nlfmOhPNGX"
      },
      "source": [
        "##Explanation"
      ]
    },
    {
      "cell_type": "markdown",
      "metadata": {
        "id": "1EOd7xg8aifg"
      },
      "source": [
        "- One model is run on cpu, another is quantized and run on cpu, and the other is quantized and run on edgetpu.\n",
        "- I trained a keras cnn model using the dataset of one day's average temperature provided by Japan Meteorological Agency.\n",
        "- These models predict the next temperature based on thirty consecutive temperature data."
      ]
    },
    {
      "cell_type": "markdown",
      "metadata": {
        "id": "QSEBx9skcmlN"
      },
      "source": [
        "##Prepare the dataset"
      ]
    },
    {
      "cell_type": "markdown",
      "metadata": {
        "id": "beF9yyR1dOPr"
      },
      "source": [
        "- one day's average temperature for 6911 days provided by Japan Meteorological Agency"
      ]
    },
    {
      "cell_type": "code",
      "metadata": {
        "id": "T8gtHnU5F251"
      },
      "source": [
        "import pandas as pd\n",
        "import numpy as np\n",
        "import tensorflow as tf"
      ],
      "execution_count": null,
      "outputs": []
    },
    {
      "cell_type": "code",
      "metadata": {
        "id": "rJUEhV68H7Nf"
      },
      "source": [
        "data = pd.read_csv(\"/content/drive/MyDrive/weather/temp.csv\")"
      ],
      "execution_count": null,
      "outputs": []
    },
    {
      "cell_type": "markdown",
      "metadata": {
        "id": "D6LENt_EesGM"
      },
      "source": [
        "- input data is a numpy ndarray\n",
        "  - shape is (6311,30,1)\n",
        "  - dtype is numpy.float32"
      ]
    },
    {
      "cell_type": "code",
      "metadata": {
        "id": "ulAzzFjhIlux"
      },
      "source": [
        "np_temp = np.asarray(data.loc[:len(data),\"平均気温\"],dtype=np.float32)"
      ],
      "execution_count": null,
      "outputs": []
    },
    {
      "cell_type": "code",
      "metadata": {
        "id": "4rUFmgLFjbS6"
      },
      "source": [
        "for i in range(len(np_temp)-30):\n",
        "  if i==0:\n",
        "    in_temp = np_temp[i:i+30].reshape(1,30)\n",
        "    out_temp = np_temp[i+30].reshape(1,1)\n",
        "  else:\n",
        "    in_temp = np.concatenate([in_temp,np_temp[i:i+30].reshape(1,30)])\n",
        "    out_temp = np.concatenate([out_temp,np_temp[i+30].reshape(1,1)])"
      ],
      "execution_count": null,
      "outputs": []
    },
    {
      "cell_type": "code",
      "metadata": {
        "id": "qjyJCx6lqBsU"
      },
      "source": [
        "in_temp = in_temp.reshape(-1,30,1)"
      ],
      "execution_count": null,
      "outputs": []
    },
    {
      "cell_type": "markdown",
      "metadata": {
        "id": "fg5cg6RzfXLv"
      },
      "source": [
        "##Build a keras cnn model"
      ]
    },
    {
      "cell_type": "code",
      "metadata": {
        "id": "DcLxi-OaMgsJ"
      },
      "source": [
        "inputs = tf.keras.Input(shape=(30,1))\n",
        "cnn1 = tf.keras.layers.Conv1D(filters=1,kernel_size=10,strides=1,activation='relu',input_shape=(30,1))\n",
        "cnn2 = tf.keras.layers.Conv1D(filters=1,kernel_size=5,strides=1,activation='relu')\n",
        "cnn3 = tf.keras.layers.Conv1D(filters=1,kernel_size=3,strides=1,activation='relu')\n",
        "dense1 = tf.keras.layers.Dense(units=8,activation='relu')\n",
        "dense2 = tf.keras.layers.Dense(units=1)\n",
        "x = cnn1(inputs)\n",
        "x = cnn2(x)\n",
        "x = cnn3(x)\n",
        "x = tf.keras.layers.Flatten()(x)\n",
        "x = dense1(x)\n",
        "outputs = dense2(x)\n",
        "model = tf.keras.Model(inputs=inputs,outputs=outputs)\n",
        "model.compile(optimizer=\"Adam\",loss=\"mean_squared_error\",\n",
        "                               metrics=\"binary_accuracy\")"
      ],
      "execution_count": null,
      "outputs": []
    },
    {
      "cell_type": "code",
      "metadata": {
        "id": "7Zj6ABdadva9",
        "colab": {
          "base_uri": "https://localhost:8080/"
        },
        "outputId": "85984419-49af-41d9-ab74-8a5aa77bfe5c"
      },
      "source": [
        "model.summary()"
      ],
      "execution_count": null,
      "outputs": [
        {
          "output_type": "stream",
          "text": [
            "Model: \"functional_23\"\n",
            "_________________________________________________________________\n",
            "Layer (type)                 Output Shape              Param #   \n",
            "=================================================================\n",
            "input_14 (InputLayer)        [(None, 30, 1)]           0         \n",
            "_________________________________________________________________\n",
            "conv1d_31 (Conv1D)           (None, 21, 1)             11        \n",
            "_________________________________________________________________\n",
            "conv1d_32 (Conv1D)           (None, 17, 1)             6         \n",
            "_________________________________________________________________\n",
            "conv1d_33 (Conv1D)           (None, 15, 1)             4         \n",
            "_________________________________________________________________\n",
            "flatten_5 (Flatten)          (None, 15)                0         \n",
            "_________________________________________________________________\n",
            "dense_24 (Dense)             (None, 8)                 128       \n",
            "_________________________________________________________________\n",
            "dense_25 (Dense)             (None, 1)                 9         \n",
            "=================================================================\n",
            "Total params: 158\n",
            "Trainable params: 158\n",
            "Non-trainable params: 0\n",
            "_________________________________________________________________\n"
          ],
          "name": "stdout"
        }
      ]
    },
    {
      "cell_type": "markdown",
      "metadata": {
        "id": "nEJ2qzXFfg2e"
      },
      "source": [
        "##Train the model"
      ]
    },
    {
      "cell_type": "markdown",
      "metadata": {
        "id": "yHR003eCflKd"
      },
      "source": [
        "- batch size is 50\n",
        "- epoch is 30"
      ]
    },
    {
      "cell_type": "code",
      "metadata": {
        "id": "5GVKW0xjeTGs",
        "colab": {
          "base_uri": "https://localhost:8080/"
        },
        "outputId": "b3a0179d-bb81-458f-83d4-ff026d6b1922"
      },
      "source": [
        "model.fit(x=in_temp,y=out_temp,batch_size=50,epochs=30)"
      ],
      "execution_count": null,
      "outputs": [
        {
          "output_type": "stream",
          "text": [
            "Epoch 1/30\n",
            "139/139 [==============================] - 0s 2ms/step - loss: 336.4339 - binary_accuracy: 0.0000e+00\n",
            "Epoch 2/30\n",
            "139/139 [==============================] - 0s 2ms/step - loss: 44.7957 - binary_accuracy: 2.8939e-04\n",
            "Epoch 3/30\n",
            "139/139 [==============================] - 0s 2ms/step - loss: 12.5332 - binary_accuracy: 2.8939e-04\n",
            "Epoch 4/30\n",
            "139/139 [==============================] - 0s 2ms/step - loss: 11.6015 - binary_accuracy: 2.8939e-04\n",
            "Epoch 5/30\n",
            "139/139 [==============================] - 0s 2ms/step - loss: 10.7912 - binary_accuracy: 2.8939e-04\n",
            "Epoch 6/30\n",
            "139/139 [==============================] - 0s 2ms/step - loss: 10.1794 - binary_accuracy: 2.8939e-04\n",
            "Epoch 7/30\n",
            "139/139 [==============================] - 0s 2ms/step - loss: 9.4582 - binary_accuracy: 2.8939e-04\n",
            "Epoch 8/30\n",
            "139/139 [==============================] - 0s 2ms/step - loss: 8.8774 - binary_accuracy: 2.8939e-04\n",
            "Epoch 9/30\n",
            "139/139 [==============================] - 0s 2ms/step - loss: 8.3673 - binary_accuracy: 2.8939e-04\n",
            "Epoch 10/30\n",
            "139/139 [==============================] - 0s 2ms/step - loss: 8.0403 - binary_accuracy: 2.8939e-04\n",
            "Epoch 11/30\n",
            "139/139 [==============================] - 0s 2ms/step - loss: 7.7211 - binary_accuracy: 2.8939e-04\n",
            "Epoch 12/30\n",
            "139/139 [==============================] - 0s 2ms/step - loss: 7.4158 - binary_accuracy: 2.8939e-04\n",
            "Epoch 13/30\n",
            "139/139 [==============================] - 0s 2ms/step - loss: 7.2833 - binary_accuracy: 2.8939e-04\n",
            "Epoch 14/30\n",
            "139/139 [==============================] - 0s 2ms/step - loss: 6.9906 - binary_accuracy: 2.8939e-04\n",
            "Epoch 15/30\n",
            "139/139 [==============================] - 0s 2ms/step - loss: 6.8578 - binary_accuracy: 2.8939e-04\n",
            "Epoch 16/30\n",
            "139/139 [==============================] - 0s 2ms/step - loss: 6.7740 - binary_accuracy: 2.8939e-04\n",
            "Epoch 17/30\n",
            "139/139 [==============================] - 0s 2ms/step - loss: 6.4982 - binary_accuracy: 2.8939e-04\n",
            "Epoch 18/30\n",
            "139/139 [==============================] - 0s 2ms/step - loss: 6.2747 - binary_accuracy: 2.8939e-04\n",
            "Epoch 19/30\n",
            "139/139 [==============================] - 0s 2ms/step - loss: 6.1672 - binary_accuracy: 2.8939e-04\n",
            "Epoch 20/30\n",
            "139/139 [==============================] - 0s 2ms/step - loss: 5.9533 - binary_accuracy: 2.8939e-04\n",
            "Epoch 21/30\n",
            "139/139 [==============================] - 0s 2ms/step - loss: 5.7458 - binary_accuracy: 2.8939e-04\n",
            "Epoch 22/30\n",
            "139/139 [==============================] - 0s 2ms/step - loss: 5.6099 - binary_accuracy: 2.8939e-04\n",
            "Epoch 23/30\n",
            "139/139 [==============================] - 0s 2ms/step - loss: 5.3582 - binary_accuracy: 2.8939e-04\n",
            "Epoch 24/30\n",
            "139/139 [==============================] - 0s 2ms/step - loss: 5.1655 - binary_accuracy: 2.8939e-04\n",
            "Epoch 25/30\n",
            "139/139 [==============================] - 0s 3ms/step - loss: 4.8977 - binary_accuracy: 2.8939e-04\n",
            "Epoch 26/30\n",
            "139/139 [==============================] - 0s 2ms/step - loss: 4.7292 - binary_accuracy: 2.8939e-04\n",
            "Epoch 27/30\n",
            "139/139 [==============================] - 0s 2ms/step - loss: 4.5693 - binary_accuracy: 2.8939e-04\n",
            "Epoch 28/30\n",
            "139/139 [==============================] - 0s 2ms/step - loss: 4.3024 - binary_accuracy: 2.8939e-04\n",
            "Epoch 29/30\n",
            "139/139 [==============================] - 0s 2ms/step - loss: 4.1532 - binary_accuracy: 2.8939e-04\n",
            "Epoch 30/30\n",
            "139/139 [==============================] - 0s 2ms/step - loss: 3.9642 - binary_accuracy: 2.8939e-04\n"
          ],
          "name": "stdout"
        },
        {
          "output_type": "execute_result",
          "data": {
            "text/plain": [
              "<tensorflow.python.keras.callbacks.History at 0x7f106a9717b8>"
            ]
          },
          "metadata": {
            "tags": []
          },
          "execution_count": 88
        }
      ]
    },
    {
      "cell_type": "markdown",
      "metadata": {
        "id": "AmqaLw4af6Y8"
      },
      "source": [
        "##Convert the keras model to a TFlite model run on cpu"
      ]
    },
    {
      "cell_type": "code",
      "metadata": {
        "id": "UttuJlDPudt-",
        "colab": {
          "base_uri": "https://localhost:8080/"
        },
        "outputId": "2e0820db-6f36-45b5-aeaa-88f49919df14"
      },
      "source": [
        "converter = tf.lite.TFLiteConverter.from_keras_model(model)\n",
        "tf_lite_model = converter.convert()"
      ],
      "execution_count": null,
      "outputs": [
        {
          "output_type": "stream",
          "text": [
            "INFO:tensorflow:Assets written to: /tmp/tmp0ookxp8i/assets\n"
          ],
          "name": "stdout"
        },
        {
          "output_type": "stream",
          "text": [
            "INFO:tensorflow:Assets written to: /tmp/tmp0ookxp8i/assets\n"
          ],
          "name": "stderr"
        }
      ]
    },
    {
      "cell_type": "markdown",
      "metadata": {
        "id": "gX7uTU3Vg3SN"
      },
      "source": [
        "- save the TFlite model"
      ]
    },
    {
      "cell_type": "code",
      "metadata": {
        "id": "lWKcUdCauw3O",
        "colab": {
          "base_uri": "https://localhost:8080/"
        },
        "outputId": "03acb340-8c1d-45d0-bda2-a53a5c2981e9"
      },
      "source": [
        "open(\"cnn_weather_lite.tflite\",\"wb\").write(tf_lite_model)"
      ],
      "execution_count": null,
      "outputs": [
        {
          "output_type": "execute_result",
          "data": {
            "text/plain": [
              "5184"
            ]
          },
          "metadata": {
            "tags": []
          },
          "execution_count": 92
        }
      ]
    },
    {
      "cell_type": "markdown",
      "metadata": {
        "id": "LbvnQc5Pg9Vs"
      },
      "source": [
        "##Quantize the keras model"
      ]
    },
    {
      "cell_type": "markdown",
      "metadata": {
        "id": "Qu8Fxy3UhIkX"
      },
      "source": [
        "- determine the input shape and save the model as tf model (can't quantize without the constant input shape)"
      ]
    },
    {
      "cell_type": "code",
      "metadata": {
        "id": "DrWYA1ue1wjf",
        "colab": {
          "base_uri": "https://localhost:8080/"
        },
        "outputId": "721772af-453e-4366-cb94-65c24a6bc929"
      },
      "source": [
        "opt = tf.function(lambda x:model(x))\n",
        "BACTH_SIZE = 1\n",
        "STEPS = 30\n",
        "INPUT_SIZE = 1\n",
        "concrete_func = opt.get_concrete_function(tf.TensorSpec([BACTH_SIZE,STEPS,INPUT_SIZE],\n",
        "                                                        model.inputs[0].dtype,name=\"inputs\")\n",
        ")\n",
        "model.save('/content/weather',save_format=\"tf\",signatures=concrete_func)"
      ],
      "execution_count": null,
      "outputs": [
        {
          "output_type": "stream",
          "text": [
            "INFO:tensorflow:Assets written to: /content/weather/assets\n"
          ],
          "name": "stdout"
        },
        {
          "output_type": "stream",
          "text": [
            "INFO:tensorflow:Assets written to: /content/weather/assets\n"
          ],
          "name": "stderr"
        }
      ]
    },
    {
      "cell_type": "markdown",
      "metadata": {
        "id": "Q0we9RnUicEw"
      },
      "source": [
        "- quantize the tf model(details: https://www.tensorflow.org/lite/performance/post_training_integer_quant)"
      ]
    },
    {
      "cell_type": "code",
      "metadata": {
        "id": "gC6Sg6myvDq_"
      },
      "source": [
        "conv_data = in_temp[0]\n",
        "conv_data = conv_data.reshape(1,30,1)"
      ],
      "execution_count": null,
      "outputs": []
    },
    {
      "cell_type": "code",
      "metadata": {
        "id": "o5WhIshxvtAu"
      },
      "source": [
        "def representative_dataset_gen():\n",
        "  for i in range(len(conv_data)):\n",
        "    yield [conv_data[i]]"
      ],
      "execution_count": null,
      "outputs": []
    },
    {
      "cell_type": "code",
      "metadata": {
        "id": "nJbO6lLcwG-D"
      },
      "source": [
        "converter_edgetpu = tf.lite.TFLiteConverter.from_saved_model(\"/content/weather\")\n",
        "converter_edgetpu.optimizations = [tf.lite.Optimize.DEFAULT]\n",
        "converter_edgetpu.representative_dataset = representative_dataset_gen\n",
        "converter_edgetpu.target_spec.supported_ops = [tf.lite.OpsSet.TFLITE_BUILTINS_INT8]\n",
        "converter_edgetpu.inference_input_type = tf.uint8\n",
        "converter_edgetpu.inference_output_type = tf.uint8\n",
        "converter_edgetpu.experimental_new_converter = True\n",
        "tflite = converter_edgetpu.convert()"
      ],
      "execution_count": null,
      "outputs": []
    },
    {
      "cell_type": "markdown",
      "metadata": {
        "id": "Bt9nJQTqiswV"
      },
      "source": [
        "- save the quantized TFlite model"
      ]
    },
    {
      "cell_type": "code",
      "metadata": {
        "id": "RASUS2Bswbje",
        "colab": {
          "base_uri": "https://localhost:8080/"
        },
        "outputId": "29aca61a-be00-4a54-df2b-8008c3410cec"
      },
      "source": [
        "open(\"cnn_weather_lite_quantized.tflite\",\"wb\").write(tflite)"
      ],
      "execution_count": null,
      "outputs": [
        {
          "output_type": "execute_result",
          "data": {
            "text/plain": [
              "8560"
            ]
          },
          "metadata": {
            "tags": []
          },
          "execution_count": 101
        }
      ]
    },
    {
      "cell_type": "markdown",
      "metadata": {
        "id": "qYSDF-5viwy4"
      },
      "source": [
        "- install edgetpu compiler"
      ]
    },
    {
      "cell_type": "code",
      "metadata": {
        "id": "VAmaPMxT2eTB",
        "colab": {
          "base_uri": "https://localhost:8080/"
        },
        "outputId": "88ab6995-95fe-4c3f-f8c1-6fcbb6b205e2"
      },
      "source": [
        "!curl https://packages.cloud.google.com/apt/doc/apt-key.gpg | sudo apt-key add -"
      ],
      "execution_count": null,
      "outputs": [
        {
          "output_type": "stream",
          "text": [
            "  % Total    % Received % Xferd  Average Speed   Time    Time     Time  Current\n",
            "                                 Dload  Upload   Total   Spent    Left  Speed\n",
            "\r  0     0    0     0    0     0      0      0 --:--:-- --:--:-- --:--:--     0\r100   653  100   653    0     0  12557      0 --:--:-- --:--:-- --:--:-- 12557\n",
            "OK\n"
          ],
          "name": "stdout"
        }
      ]
    },
    {
      "cell_type": "code",
      "metadata": {
        "id": "Ib2IK7GW27cL",
        "colab": {
          "base_uri": "https://localhost:8080/"
        },
        "outputId": "6282ad5c-5fec-4452-bbb4-5ff9446ca668"
      },
      "source": [
        "!echo \"deb https://packages.cloud.google.com/apt coral-edgetpu-stable main\" | sudo tee /etc/apt/sources.list.d/coral-edgetpu.list"
      ],
      "execution_count": null,
      "outputs": [
        {
          "output_type": "stream",
          "text": [
            "deb https://packages.cloud.google.com/apt coral-edgetpu-stable main\n"
          ],
          "name": "stdout"
        }
      ]
    },
    {
      "cell_type": "code",
      "metadata": {
        "id": "rZN-V2MX2_TM",
        "colab": {
          "base_uri": "https://localhost:8080/"
        },
        "outputId": "ce8407c2-d1c7-4939-f0aa-160fec766886"
      },
      "source": [
        "!sudo apt -y update"
      ],
      "execution_count": null,
      "outputs": [
        {
          "output_type": "stream",
          "text": [
            "Get:1 https://cloud.r-project.org/bin/linux/ubuntu bionic-cran40/ InRelease [3,626 B]\n",
            "Ign:2 https://developer.download.nvidia.com/compute/cuda/repos/ubuntu1804/x86_64  InRelease\n",
            "Get:3 http://security.ubuntu.com/ubuntu bionic-security InRelease [88.7 kB]\n",
            "Ign:4 https://developer.download.nvidia.com/compute/machine-learning/repos/ubuntu1804/x86_64  InRelease\n",
            "Hit:5 https://developer.download.nvidia.com/compute/cuda/repos/ubuntu1804/x86_64  Release\n",
            "Hit:6 https://developer.download.nvidia.com/compute/machine-learning/repos/ubuntu1804/x86_64  Release\n",
            "Get:7 http://ppa.launchpad.net/c2d4u.team/c2d4u4.0+/ubuntu bionic InRelease [15.9 kB]\n",
            "Hit:8 http://archive.ubuntu.com/ubuntu bionic InRelease\n",
            "Get:10 https://packages.cloud.google.com/apt coral-edgetpu-stable InRelease [6,332 B]\n",
            "Get:12 http://archive.ubuntu.com/ubuntu bionic-updates InRelease [88.7 kB]\n",
            "Get:13 https://packages.cloud.google.com/apt coral-edgetpu-stable/main amd64 Packages [2,172 B]\n",
            "Hit:14 http://ppa.launchpad.net/graphics-drivers/ppa/ubuntu bionic InRelease\n",
            "Get:15 http://archive.ubuntu.com/ubuntu bionic-backports InRelease [74.6 kB]\n",
            "Get:16 http://ppa.launchpad.net/c2d4u.team/c2d4u4.0+/ubuntu bionic/main Sources [1,688 kB]\n",
            "Get:17 http://archive.ubuntu.com/ubuntu bionic-updates/main amd64 Packages [2,208 kB]\n",
            "Get:18 http://archive.ubuntu.com/ubuntu bionic-updates/restricted amd64 Packages [252 kB]\n",
            "Get:19 http://archive.ubuntu.com/ubuntu bionic-updates/universe amd64 Packages [2,130 kB]\n",
            "Get:20 http://archive.ubuntu.com/ubuntu bionic-updates/multiverse amd64 Packages [54.4 kB]\n",
            "Get:21 http://ppa.launchpad.net/c2d4u.team/c2d4u4.0+/ubuntu bionic/main amd64 Packages [864 kB]\n",
            "Fetched 7,477 kB in 5s (1,416 kB/s)\n",
            "Reading package lists... Done\n",
            "Building dependency tree       \n",
            "Reading state information... Done\n",
            "18 packages can be upgraded. Run 'apt list --upgradable' to see them.\n"
          ],
          "name": "stdout"
        }
      ]
    },
    {
      "cell_type": "code",
      "metadata": {
        "id": "KFKmdXeU3Dke",
        "colab": {
          "base_uri": "https://localhost:8080/"
        },
        "outputId": "9f32c3e6-56b5-41a7-f15d-e4dbfc491e24"
      },
      "source": [
        "!sudo apt-get install edgetpu-compiler"
      ],
      "execution_count": null,
      "outputs": [
        {
          "output_type": "stream",
          "text": [
            "Reading package lists... Done\n",
            "Building dependency tree       \n",
            "Reading state information... Done\n",
            "The following NEW packages will be installed:\n",
            "  edgetpu-compiler\n",
            "0 upgraded, 1 newly installed, 0 to remove and 18 not upgraded.\n",
            "Need to get 7,865 kB of archives.\n",
            "After this operation, 31.2 MB of additional disk space will be used.\n",
            "Get:1 https://packages.cloud.google.com/apt coral-edgetpu-stable/main amd64 edgetpu-compiler amd64 15.0 [7,865 kB]\n",
            "Fetched 7,865 kB in 1s (6,350 kB/s)\n",
            "debconf: unable to initialize frontend: Dialog\n",
            "debconf: (No usable dialog-like program is installed, so the dialog based frontend cannot be used. at /usr/share/perl5/Debconf/FrontEnd/Dialog.pm line 76, <> line 1.)\n",
            "debconf: falling back to frontend: Readline\n",
            "debconf: unable to initialize frontend: Readline\n",
            "debconf: (This frontend requires a controlling tty.)\n",
            "debconf: falling back to frontend: Teletype\n",
            "dpkg-preconfigure: unable to re-open stdin: \n",
            "Selecting previously unselected package edgetpu-compiler.\n",
            "(Reading database ... 144793 files and directories currently installed.)\n",
            "Preparing to unpack .../edgetpu-compiler_15.0_amd64.deb ...\n",
            "Unpacking edgetpu-compiler (15.0) ...\n",
            "Setting up edgetpu-compiler (15.0) ...\n",
            "Processing triggers for libc-bin (2.27-3ubuntu1.2) ...\n",
            "/sbin/ldconfig.real: /usr/local/lib/python3.6/dist-packages/ideep4py/lib/libmkldnn.so.0 is not a symbolic link\n",
            "\n"
          ],
          "name": "stdout"
        }
      ]
    },
    {
      "cell_type": "markdown",
      "metadata": {
        "id": "iwg5HcOpi4Y1"
      },
      "source": [
        "- compile the quantized TFlite model for edgetpu"
      ]
    },
    {
      "cell_type": "code",
      "metadata": {
        "id": "WAoUPHFX3JMB",
        "colab": {
          "base_uri": "https://localhost:8080/"
        },
        "outputId": "706ff2ba-1ce2-4467-b23b-cd36aed3c5b6"
      },
      "source": [
        "!edgetpu_compiler /content/cnn_weather_lite_quantized.tflite"
      ],
      "execution_count": null,
      "outputs": [
        {
          "output_type": "stream",
          "text": [
            "Edge TPU Compiler version 15.0.340273435\n",
            "\n",
            "Model compiled successfully in 56 ms.\n",
            "\n",
            "Input model: /content/cnn_weather_lite_quantized.tflite\n",
            "Input size: 8.36KiB\n",
            "Output model: cnn_weather_lite_quantized_edgetpu.tflite\n",
            "Output size: 48.50KiB\n",
            "On-chip memory used for caching model parameters: 6.75KiB\n",
            "On-chip memory remaining for caching model parameters: 7.85MiB\n",
            "Off-chip memory used for streaming uncached model parameters: 192.00B\n",
            "Number of Edge TPU subgraphs: 1\n",
            "Total number of operations: 17\n",
            "Operation log: cnn_weather_lite_quantized_edgetpu.log\n",
            "See the operation log file for individual operation details.\n"
          ],
          "name": "stdout"
        }
      ]
    }
  ]
}